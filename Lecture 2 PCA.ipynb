{
 "cells": [
  {
   "cell_type": "code",
   "execution_count": 1,
   "metadata": {},
   "outputs": [],
   "source": [
    "# functions to open and read files.\n",
    "def read_in(path, fn):\n",
    "    f=open(path + \"/\" + fn, \"r\", encoding=\"utf8\")\n",
    "    contents = f.read()\n",
    "    f.close()\n",
    "    return contents\n",
    "\n",
    "def get_file_list(folder):\n",
    "    from os import listdir\n",
    "    return listdir(folder)"
   ]
  },
  {
   "cell_type": "code",
   "execution_count": 2,
   "metadata": {},
   "outputs": [
    {
     "data": {
      "text/plain": [
       "{'ai.txt': 'In computer science, artificial intelligence (AI), sometimes called machine intelligence, is intelligence demonstrated by machines, in contrast to the natural intelligence displayed by humans. Leading AI textbooks define the field as the study of \"intelligent agents\": any device that perceives its environment and takes actions that maximize its chance of successfully achieving its goals.[1] Colloquially, the term \"artificial intelligence\" is often used to describe machines (or computers) that mimic \"cognitive\" functions that humans associate with the human mind, such as \"learning\" and \"problem solving\".[2]',\n",
       " 'beast.txt': 'Beast (Dr. Henry Philip \"Hank\" McCoy) is a fictional superhero appearing in American comic books published by Marvel Comics and is a founding member of the X-Men. Originally called \"The Beast\", the character was introduced as a mutant possessing ape-like superhuman physical strength and agility, oversized hands and feet, a genius-level intellect, and otherwise normal appearance and speech. Eventually being referred to simply as \"Beast\", Hank McCoy underwent progressive physiological transformations, permanently gaining animalistic physical characteristics. These include blue fur, both simian and feline facial features, pointed ears, fangs, and claws. Beast\\'s physical strength and senses increased to even greater levels.\\n\\nDespite Hank McCoy\\'s inhuman appearance, he is depicted as a brilliant, well-educated man in the arts and sciences, known for his witty sense of humor, and characteristically uses barbed witticisms with long words and intellectual references to distract his foes.[1] He is a world authority on biochemistry and genetics, the X-Men\\'s medical doctor, and the science and mathematics instructor at the Xavier Institute (the X-Men\\'s headquarters and school for young mutants). He is also a mutant political activist, campaigning against society\\'s bigotry and discrimination against mutants. While fighting his own bestial instincts and fears of social rejection, Beast dedicates his physical and mental gifts to the creation of a better world for man and mutant.\\n\\nOne of the original X-Men, Beast has appeared regularly in X-Men-related comics since his debut. He has also been a member of the Avengers and Defenders.\\n\\nThe character has also appeared in media adaptations, including animated TV series and feature films. In X2 (2003), Steve Bacic portrayed him in a very brief cameo in his human appearance while in X-Men: The Last Stand (2006) he was played by Kelsey Grammer. Nicholas Hoult portrayed a younger version of the character in X-Men: First Class (2011). Both Hoult and Grammer reprised their roles in X-Men: Days of Future Past (2014). Hoult also reprised the role in X-Men: Apocalypse (2016) and Dark Phoenix (2019), and had a cameo in Deadpool 2 (2018).',\n",
       " 'cyclops.txt': \"Cyclops (Scott Summers) is a fictional superhero appearing in American comic books published by Marvel Comics and is a founding member of the X-Men. Created by writer Stan Lee and artist Jack Kirby, the character first appeared in the comic book The X-Men.\\n\\nCyclops is a member of a subspecies of humans known as mutants, who are born with superhuman abilities. Cyclops can emit powerful beams of energy from his eyes. He cannot control the beams without the aid of special eyewear which he must wear at all times. He is typically considered the first of the X-Men,[1] a team of mutant heroes who fight for peace and equality between mutants and humans, and one of the team's primary leaders.[2][3]\\n\\nCyclops is most often portrayed as the archetypal hero of traditional American popular culture—the opposite of the tough, anti-authority antiheroes that emerged in American popular culture after the Vietnam War (e.g., Wolverine, his X-Men teammate).[4][5]\\n\\nOne of Marvel's most prominent characters, Cyclops was rated #1 on IGN.com's list of Top 25 X-Men from the past forty years in 2006,[1] and the 39th in their 2011 list of Top 100 Comic Book Heroes.[2] In 2008, Wizard Magazine also ranked Cyclops the 106th in their list of the 200 Greatest Comic Book Characters of All Time.[5] In a 2011 poll, readers of Comic Book Resources voted Cyclops as 9th in the ranking of 2011 Top Marvel Characters.[3]\\n\\nJames Marsden has initially portrayed Cyclops in the X-Men films, while a younger version of the character was portrayed by Tim Pocock in the 2009 prequel film X-Men Origins: Wolverine, and by Tye Sheridan in X-Men: Apocalypse (2016) and Dark Phoenix (2019) as well as a cameo in Deadpool 2 (2018).\",\n",
       " 'harrypotter.txt': \"Harry Potter is a series of fantasy novels written by British author J. K. Rowling. The novels chronicle the lives of a young wizard, Harry Potter, and his friends Hermione Granger and Ron Weasley, all of whom are students at Hogwarts School of Witchcraft and Wizardry. The main story arc concerns Harry's struggle against Lord Voldemort, a dark wizard who intends to become immortal, overthrow the wizard governing body known as the Ministry of Magic and subjugate all wizards and Muggles (non-magical people).\",\n",
       " 'iceman.txt': 'Iceman (Robert Louis \"Bobby\" Drake) is a fictional superhero appearing in American comic books published by Marvel Comics and is a founding member of the X-Men. Created by writer Stan Lee and artist Jack Kirby, the character first appeared in The X-Men #1 (September 1963).\\n\\nIceman is a member of a subspecies of humans known as mutants, who are born with superhuman abilities. He has the ability to manipulate ice and cold by freezing water vapor around him. This allows him to freeze objects, as well as turn his body into ice. The character received widespread media attention when it was revealed that he was gay in All-New X-Men #40.\\n\\nThe character has been frequently present in X-Men and Spider-Man-related comics, video games, animated series, and movies. Shawn Ashmore portrayed Iceman in the X-Men films, and voices the character in The Super Hero Squad Show.',\n",
       " 'magicorder.txt': 'The Magic Order is a comic book series written by Mark Millar and illustrated by Olivier Coipel.[1] The first comic in the series was published on 13 June 2018. It is published by Image Comics and the property of Netflix which bought Millarworld in 2017. The first volume consist of six issues. The series is R-rated adult fantasy.[2] The comic is the first comic book series released by Millarworld since being acquired by Netflix.[3] The comic marks the start of phase 2 of Millarworld.[4] On January 2019 Millar confirmed that a second volume is in development.[5] g',\n",
       " 'magneto.txt': \"Magneto (Erik Lehnsherr) (/mæɡˈniːtoʊ/) is a fictional character appearing in American comic books published by Marvel Comics, commonly in association with the X-Men. Created by writer Stan Lee and artist Jack Kirby, the character first appears in The X-Men #1 (cover-dated Sept. 1963) as an adversary of the X-Men.\\n\\nThe character is a powerful mutant, one of a fictional subspecies of humanity born with superhuman abilities, who has the ability to generate and control magnetic fields. Magneto regards mutants as evolutionarily superior to humans and rejects the possibility of peaceful human-mutant coexistence; he initially aimed to conquer the world to enable mutants, whom he refers to as homo superior, to replace humans as the dominant species. Writers have since fleshed out his origins and motivations, revealing him to be a Holocaust survivor whose extreme methods and cynical philosophy derive from his determination to protect mutants from suffering a similar fate at the hands of a world that fears and persecutes mutants. He is a friend of Professor X, the leader of the X-Men, but their different philosophies cause a rift in their friendship at times. Magneto's role in comics has varied from supervillain to antihero to superhero, having served as an occasional ally and even a member of the X-Men at times.\\n\\nHis character's early history has been compared with the civil rights leader Malcolm X[8][9] and Jewish Defense League founder Meir Kahane.[10][11] Magneto opposes the pacifist attitude of Professor X and pushes for a more aggressive approach to achieving civil rights. Magneto was ranked by IGN as the Greatest Comic Book Villain of All Time.[12][13]\\n\\nIan McKellen portrayed Magneto in five films of the X-Men film series, while Michael Fassbender portrayed a younger version of the character in four films.\",\n",
       " 'marvelgirl.txt': 'Jean Grey-Summers is a fictional superhero appearing in American comic books published by Marvel Comics. The character has been known under the aliases Marvel Girl, Phoenix, and Dark Phoenix. Created by writer Stan Lee and artist Jack Kirby, the character first appeared in The X-Men #1 (September 1963).\\n\\nJean is a member of a subspecies of humans known as mutants, who are born with superhuman abilities. She was born with telepathic and telekinetic powers. Her powers first manifested when she saw her childhood friend being hit by a car. She is a caring, nurturing figure, but she also has to deal with being an Omega-level mutant and the physical manifestation of the cosmic Phoenix Force. Jean experienced a transformation into the Phoenix in the X-Men storyline \"The Dark Phoenix Saga\". She has faced death numerous times in the history of the series. Her first death was under her guise as Marvel Girl, when she died and was \"reborn\" as Phoenix in \"The Dark Phoenix Saga\". This transformation led to her second death, which was suicide, though not her last.\\n\\nShe is an important figure in the lives of other Marvel Universe characters, mostly the X-Men, including her husband Cyclops, her mentor and father figure Charles Xavier, her unrequited love interest Wolverine, her best friend and sister-like figure Storm, and her genetic children Rachel Summers, Cable, Stryfe and X-Man.\\n\\nThe character was present for much of the X-Men\\'s history, and she was featured in all three X-Men animated series and several video games. She is a playable character in X-Men Legends (2004), X-Men Legends II: Rise of Apocalypse (2005), Marvel Ultimate Alliance 2 (2009), Marvel vs Capcom 3: Fate of Two Worlds (2011), Marvel Heroes (2013), and Lego Marvel Super Heroes (2013), and appeared as a non-playable in the first Marvel: Ultimate Alliance.\\n\\nFamke Janssen portrayed the character in five installments of the X-Men films. Sophie Turner portrayed a younger version in the 2016 film X-Men: Apocalypse and the 2019 film Dark Phoenix.\\n\\nIn 2006, IGN rated Jean Grey 6th on their list of top 25 X-Men from the past forty years,[1] and in 2011, IGN ranked her 13th in the \"Top 100 Comic Book Heroes\".[2] Her Dark Phoenix persona was ranked 9th in IGN\\'s \"Top 100 Comic Book Villains of All Time\" list, the highest rank for a female character.[3]',\n",
       " 'quicksilver.txt': 'Quicksilver (Pietro Maximoff) is a fictional character appearing in American comic books published by Marvel Comics. The character first appeared in the comic book X-Men #4 (March 1964) and was created by Stan Lee and Jack Kirby. The character has since starred in two self-titled limited series and has historically been depicted as a regular team member in superhero title The Avengers.\\n\\nQuicksilver has the superhuman ability to move at great speeds. In most depictions, he is a mutant, a human born with innate superhuman powers. In comic book stories beginning in 2015, he is the product of genetic experimentation by the High Evolutionary.[1] Quicksilver most commonly appears in fiction associated with the X-Men, having been introduced as an adversary for the superhero team. In later stories, he became a superhero himself. He is the twin brother of the Scarlet Witch and, in most depictions, the son of Magneto and the half-brother of Polaris.\\n\\nDebuting in the Silver Age of comic books, Quicksilver has featured in several decades of Marvel continuity, starring in the self-titled series Quicksilver and as a regular team member in superhero title the Avengers. In 2006, IGN named Quicksilver #23 on their list of \"The Top 25 X-Men Of All Time\" commenting that \"Quicksilver was the shining example of a villain turned good\",[2] and as #44 on their list of the \"Top 50 Avengers\".[3]\\n\\nThe character has also appeared in a range of movie, television, and video game adaptations. Two separate live-action versions of Quicksilver have been adapted by two different film studios: Aaron Taylor-Johnson portrayed the character in the Marvel Cinematic Universe franchise, appearing in Captain America: The Winter Soldier (2014) as a cameo and Avengers: Age of Ultron (2015), while Evan Peters portrayed him in the 20th Century Fox films X-Men: Days of Future Past (2014), X-Men: Apocalypse (2016) and Dark Phoenix (2019), as well as a cameo in Deadpool 2 (2018).',\n",
       " 'scarletwitch.txt': \"Scarlet Witch is a fictional superhero appearing in American comic books published by Marvel Comics. The character was created by writer Stan Lee and artist Jack Kirby, first appearing in The X-Men #4 (March 1964) in the Silver Age of Comic Books. She is first portrayed as a supervillain along with her twin brother Quicksilver as a founding member of the Brotherhood of Mutants. In most depictions, she is portrayed as a mutant, a member of a fictional subspecies of humans born with superhuman abilities, and, for much of the character's history, was considered the daughter of the mutant Magneto. Scarlet Witch possesses abilities to alter reality in unspecified ways and is a powerful sorceress. Scarlet Witch is later depicted as a regular member of the Avengers superhero team. She also becomes the wife of fellow superhero and teammate Vision, with whom she has two sons, Thomas and William.\\n\\nThe character's in-universe backstory and parentage has been changed more than once. Depicted in the 1970s as the children of golden age superhero Whizzer, a retcon in the 1980s revealed Scarlet Witch and Quicksilver to be the unknown offspring of supervillain Magneto. Born to Magneto's estranged wife in Transia, Scarlet Witch and her brother are left in the care of their adoptive Romani parents and she is raised as Wanda Maximoff (later referred to as Wanda Frank while the Whizzer was considered to be her father). In another retcon in the 2010s, it is revealed that Quicksilver and she are not mutants but were kidnapped and used as subjects of genetic experimentation by the High Evolutionary, then misled to believe Magneto was their father.\\n\\nAlong with starring in two self-titled limited series of her own, the character appears in animated films, television series, arcade and video games as well as other Marvel-related merchandise. Scarlet Witch is portrayed by Elizabeth Olsen in the films Captain America: The Winter Soldier (2014), Avengers: Age of Ultron (2015), Captain America: Civil War (2016), Avengers: Infinity War (2018), and Avengers: Endgame (2019) from the Marvel Cinematic Universe. Elizabeth Olsen will reprise the role in the upcoming Disney+ series WandaVision (2021) and the film Doctor Strange in the Multiverse of Madness (2021).\",\n",
       " 'xmen.txt': 'The X-Men are a team of fictional superheroes appearing in American comic books published by Marvel Comics. Created by artist/co-writer Jack Kirby and writer Stan Lee, the characters first appeared in The X-Men #1 (September 1963) and formed one of the most recognizable and successful franchises of Marvel Comics, appearing in numerous books, television shows, films, and video games.\\n\\nMost of the X-Men are mutants, a subspecies of humans who are born with superhuman abilities activated by the \"X-Gene\". The X-Men fight for peace and equality between normal humans and mutants in a world where anti-mutant bigotry is fierce and widespread. They are led by Charles Xavier, also known as Professor X, a powerful mutant telepath who can control and read minds. Their archenemy is Magneto, a powerful mutant with the ability to manipulate and control magnetic fields who leads the Brotherhood of Mutants. Both have opposing views and philosophies regarding the relationship between mutants and humans. While the former works towards peace and understanding between mutants and humans, the latter views humans as a threat and believes in taking an aggressive approach against them, though he has found himself working alongside the X-Men from time to time.\\n\\nProfessor X is the founder of Xavier\\'s School for Gifted Youngsters at a location commonly called the X-Mansion, which recruits mutants from around the world to teach them how to use their powers and coexist with humanity. Located in Salem Center in Westchester County, New York, the X-Mansion is the home and training site of the X-Men. The founding five members of the X-Men who appear in The X-Men #1 (September 1963) are Angel (Archangel), Beast, Cyclops, Iceman, and Marvel Girl (Jean Grey); Professor X and Magneto also made their first appearances in The X-Men #1. Eventually more well known X-Men included Wolverine, Storm, Rogue, Gambit, Jubilee, Nightcrawler, Colossus, Kitty Pryde/Shadowcat, Havok, Polaris, Psylocke and Bishop. Since then, dozens of mutants from various countries and diverse backgrounds, and even a number of non-mutants, have held membership as X-Men.\\n\\nThe X-Men has appeared in a wide variety of media outside of comic books, including a number of different animated television series and direct-to-video films. Most notably, the superhero team has been the predominant focus of the X-Men film series with each film drawing influences from the comic book storylines.'}"
      ]
     },
     "execution_count": 2,
     "metadata": {},
     "output_type": "execute_result"
    }
   ],
   "source": [
    "# assemble the corpus into a dictionary format\n",
    "# < filename : text, filename : text, ...}\n",
    "corpus = {}\n",
    "for f in get_file_list(\"sample\"):\n",
    "    corpus[f] = read_in(\"sample\", f)\n",
    "corpus"
   ]
  },
  {
   "cell_type": "code",
   "execution_count": 3,
   "metadata": {},
   "outputs": [
    {
     "data": {
      "text/plain": [
       "dict_keys(['ai.txt', 'harrypotter.txt', 'magicorder.txt'])"
      ]
     },
     "execution_count": 3,
     "metadata": {},
     "output_type": "execute_result"
    }
   ],
   "source": [
    "# check the key terms of the dictionary.  In this case, they are the file names\n",
    "corpus.keys()"
   ]
  },
  {
   "cell_type": "code",
   "execution_count": 4,
   "metadata": {},
   "outputs": [
    {
     "data": {
      "text/html": [
       "<div>\n",
       "<style scoped>\n",
       "    .dataframe tbody tr th:only-of-type {\n",
       "        vertical-align: middle;\n",
       "    }\n",
       "\n",
       "    .dataframe tbody tr th {\n",
       "        vertical-align: top;\n",
       "    }\n",
       "\n",
       "    .dataframe thead th {\n",
       "        text-align: right;\n",
       "    }\n",
       "</style>\n",
       "<table border=\"1\" class=\"dataframe\">\n",
       "  <thead>\n",
       "    <tr style=\"text-align: right;\">\n",
       "      <th></th>\n",
       "      <th>text</th>\n",
       "    </tr>\n",
       "  </thead>\n",
       "  <tbody>\n",
       "    <tr>\n",
       "      <th>ai.txt</th>\n",
       "      <td>In computer science, artificial intelligence (...</td>\n",
       "    </tr>\n",
       "    <tr>\n",
       "      <th>harrypotter.txt</th>\n",
       "      <td>Harry Potter is a series of fantasy novels wri...</td>\n",
       "    </tr>\n",
       "    <tr>\n",
       "      <th>magicorder.txt</th>\n",
       "      <td>The Magic Order is a comic book series written...</td>\n",
       "    </tr>\n",
       "  </tbody>\n",
       "</table>\n",
       "</div>"
      ],
      "text/plain": [
       "                                                              text\n",
       "ai.txt           In computer science, artificial intelligence (...\n",
       "harrypotter.txt  Harry Potter is a series of fantasy novels wri...\n",
       "magicorder.txt   The Magic Order is a comic book series written..."
      ]
     },
     "execution_count": 4,
     "metadata": {},
     "output_type": "execute_result"
    }
   ],
   "source": [
    "# Convert to dataframe\n",
    "\n",
    "import pandas as pd\n",
    "#data_df = pd.DataFrame.from_dict(corpus).transpose()\n",
    "data_df = pd.DataFrame.from_dict(corpus,orient=\"index\")\n",
    "data_df.columns = ['text']\n",
    "data_df= data_df.sort_index()\n",
    "data_df"
   ]
  },
  {
   "cell_type": "code",
   "execution_count": 5,
   "metadata": {},
   "outputs": [],
   "source": [
    "# remove punctuations\n",
    "\n",
    "import re\n",
    "import string\n",
    "\n",
    "def clean_text_round1(text):\n",
    "    '''Make text lowercase, remove text in square brackets, remove punctuation and remove words containing numbers.'''\n",
    "    text = text.lower()\n",
    "    text = re.sub('\\[.*?\\]', '', text)\n",
    "    text = re.sub('[%s]' % re.escape(string.punctuation), '', text)\n",
    "    text = re.sub('\\w*\\d\\w*', '', text)\n",
    "    return text\n",
    "\n",
    "round1 = lambda x: clean_text_round1(x)\n"
   ]
  },
  {
   "cell_type": "code",
   "execution_count": 6,
   "metadata": {},
   "outputs": [
    {
     "data": {
      "text/html": [
       "<div>\n",
       "<style scoped>\n",
       "    .dataframe tbody tr th:only-of-type {\n",
       "        vertical-align: middle;\n",
       "    }\n",
       "\n",
       "    .dataframe tbody tr th {\n",
       "        vertical-align: top;\n",
       "    }\n",
       "\n",
       "    .dataframe thead th {\n",
       "        text-align: right;\n",
       "    }\n",
       "</style>\n",
       "<table border=\"1\" class=\"dataframe\">\n",
       "  <thead>\n",
       "    <tr style=\"text-align: right;\">\n",
       "      <th></th>\n",
       "      <th>text</th>\n",
       "    </tr>\n",
       "  </thead>\n",
       "  <tbody>\n",
       "    <tr>\n",
       "      <th>ai.txt</th>\n",
       "      <td>in computer science artificial intelligence ai...</td>\n",
       "    </tr>\n",
       "    <tr>\n",
       "      <th>harrypotter.txt</th>\n",
       "      <td>harry potter is a series of fantasy novels wri...</td>\n",
       "    </tr>\n",
       "    <tr>\n",
       "      <th>magicorder.txt</th>\n",
       "      <td>the magic order is a comic book series written...</td>\n",
       "    </tr>\n",
       "  </tbody>\n",
       "</table>\n",
       "</div>"
      ],
      "text/plain": [
       "                                                              text\n",
       "ai.txt           in computer science artificial intelligence ai...\n",
       "harrypotter.txt  harry potter is a series of fantasy novels wri...\n",
       "magicorder.txt   the magic order is a comic book series written..."
      ]
     },
     "execution_count": 6,
     "metadata": {},
     "output_type": "execute_result"
    }
   ],
   "source": [
    "# Let's take a look at the updated text\n",
    "data_clean = pd.DataFrame(data_df.text.apply(round1))\n",
    "data_clean"
   ]
  },
  {
   "cell_type": "code",
   "execution_count": 7,
   "metadata": {},
   "outputs": [
    {
     "name": "stdout",
     "output_type": "stream",
     "text": [
      "[[1 0 1 0 1 2 0 2 1 0 0 0 0 0 1 1 0 1 0 1 0 0 1 1 0 0 0 1 0 1 1 0 1 1 1 0\n",
      "  1 0 1 1 0 0 0 0 0 0 1 2 0 0 0 5 1 0 0 0 0 0 1 1 0 0 1 2 0 0 0 0 1 0 0 1\n",
      "  1 0 0 1 0 0 0 0 0 0 0 1 0 0 1 0 0 0 0 0 0 0 1 0 0 1 0 0 0 0 1 0 1 1 1 1\n",
      "  1 0 0 0 0 0 0 0 0 0]\n",
      " [0 0 0 0 0 0 1 0 0 1 1 0 0 1 0 0 1 0 0 0 0 0 0 0 1 0 0 0 1 0 0 0 0 0 0 1\n",
      "  0 1 0 0 1 1 2 1 1 1 0 0 0 0 1 0 0 1 0 0 0 1 0 0 1 1 0 0 1 1 0 0 0 0 0 0\n",
      "  0 1 1 0 0 1 2 0 0 1 1 0 0 2 0 0 0 0 1 1 0 1 0 0 1 0 0 1 1 1 0 1 0 0 0 0\n",
      "  0 1 0 1 1 3 1 1 1 1]\n",
      " [0 1 0 1 0 0 0 0 0 0 0 2 1 0 0 0 0 0 1 0 5 1 0 0 0 1 1 0 0 0 0 1 0 0 0 1\n",
      "  0 0 0 0 0 0 0 0 0 0 0 0 1 1 0 0 0 0 1 1 1 0 0 0 0 0 0 0 1 0 1 1 0 2 3 0\n",
      "  0 0 0 0 2 0 0 1 1 0 0 0 1 0 0 1 2 1 0 0 1 0 0 1 4 0 1 0 0 0 0 0 0 0 0 0\n",
      "  0 0 2 0 0 0 0 0 1 0]]\n",
      "['achieving', 'acquired', 'actions', 'adult', 'agents', 'ai', 'arc', 'artificial', 'associate', 'author', 'body', 'book', 'bought', 'british', 'called', 'chance', 'chronicle', 'cognitive', 'coipel', 'colloquially', 'comic', 'comics', 'computer', 'computers', 'concerns', 'confirmed', 'consist', 'contrast', 'dark', 'define', 'demonstrated', 'development', 'device', 'displayed', 'environment', 'fantasy', 'field', 'friends', 'functions', 'goals', 'governing', 'granger', 'harry', 'harrys', 'hermione', 'hogwarts', 'human', 'humans', 'illustrated', 'image', 'immortal', 'intelligence', 'intelligent', 'intends', 'issues', 'january', 'june', 'known', 'leading', 'learning', 'lives', 'lord', 'machine', 'machines', 'magic', 'main', 'mark', 'marks', 'maximize', 'millar', 'millarworld', 'mimic', 'mind', 'ministry', 'muggles', 'natural', 'netflix', 'nonmagical', 'novels', 'olivier', 'order', 'overthrow', 'people', 'perceives', 'phase', 'potter', 'problem', 'property', 'published', 'released', 'ron', 'rowling', 'rrated', 'school', 'science', 'second', 'series', 'solving', 'start', 'story', 'struggle', 'students', 'study', 'subjugate', 'successfully', 'takes', 'term', 'textbooks', 'used', 'voldemort', 'volume', 'weasley', 'witchcraft', 'wizard', 'wizardry', 'wizards', 'written', 'young']\n"
     ]
    }
   ],
   "source": [
    "# We are going to create a document-term matrix using CountVectorizer, and exclude common English stop words\n",
    "from sklearn.feature_extraction.text import CountVectorizer\n",
    "\n",
    "cv = CountVectorizer(stop_words='english')\n",
    "data_cv = cv.fit_transform(data_clean.text)\n",
    "print(data_cv.toarray())\n",
    "print(cv.get_feature_names())"
   ]
  },
  {
   "cell_type": "code",
   "execution_count": 8,
   "metadata": {},
   "outputs": [
    {
     "data": {
      "text/html": [
       "<div>\n",
       "<style scoped>\n",
       "    .dataframe tbody tr th:only-of-type {\n",
       "        vertical-align: middle;\n",
       "    }\n",
       "\n",
       "    .dataframe tbody tr th {\n",
       "        vertical-align: top;\n",
       "    }\n",
       "\n",
       "    .dataframe thead th {\n",
       "        text-align: right;\n",
       "    }\n",
       "</style>\n",
       "<table border=\"1\" class=\"dataframe\">\n",
       "  <thead>\n",
       "    <tr style=\"text-align: right;\">\n",
       "      <th></th>\n",
       "      <th>achieving</th>\n",
       "      <th>acquired</th>\n",
       "      <th>actions</th>\n",
       "      <th>adult</th>\n",
       "      <th>agents</th>\n",
       "      <th>ai</th>\n",
       "      <th>arc</th>\n",
       "      <th>artificial</th>\n",
       "      <th>associate</th>\n",
       "      <th>author</th>\n",
       "      <th>...</th>\n",
       "      <th>used</th>\n",
       "      <th>voldemort</th>\n",
       "      <th>volume</th>\n",
       "      <th>weasley</th>\n",
       "      <th>witchcraft</th>\n",
       "      <th>wizard</th>\n",
       "      <th>wizardry</th>\n",
       "      <th>wizards</th>\n",
       "      <th>written</th>\n",
       "      <th>young</th>\n",
       "    </tr>\n",
       "  </thead>\n",
       "  <tbody>\n",
       "    <tr>\n",
       "      <th>ai.txt</th>\n",
       "      <td>1</td>\n",
       "      <td>0</td>\n",
       "      <td>1</td>\n",
       "      <td>0</td>\n",
       "      <td>1</td>\n",
       "      <td>2</td>\n",
       "      <td>0</td>\n",
       "      <td>2</td>\n",
       "      <td>1</td>\n",
       "      <td>0</td>\n",
       "      <td>...</td>\n",
       "      <td>1</td>\n",
       "      <td>0</td>\n",
       "      <td>0</td>\n",
       "      <td>0</td>\n",
       "      <td>0</td>\n",
       "      <td>0</td>\n",
       "      <td>0</td>\n",
       "      <td>0</td>\n",
       "      <td>0</td>\n",
       "      <td>0</td>\n",
       "    </tr>\n",
       "    <tr>\n",
       "      <th>harrypotter.txt</th>\n",
       "      <td>0</td>\n",
       "      <td>0</td>\n",
       "      <td>0</td>\n",
       "      <td>0</td>\n",
       "      <td>0</td>\n",
       "      <td>0</td>\n",
       "      <td>1</td>\n",
       "      <td>0</td>\n",
       "      <td>0</td>\n",
       "      <td>1</td>\n",
       "      <td>...</td>\n",
       "      <td>0</td>\n",
       "      <td>1</td>\n",
       "      <td>0</td>\n",
       "      <td>1</td>\n",
       "      <td>1</td>\n",
       "      <td>3</td>\n",
       "      <td>1</td>\n",
       "      <td>1</td>\n",
       "      <td>1</td>\n",
       "      <td>1</td>\n",
       "    </tr>\n",
       "    <tr>\n",
       "      <th>magicorder.txt</th>\n",
       "      <td>0</td>\n",
       "      <td>1</td>\n",
       "      <td>0</td>\n",
       "      <td>1</td>\n",
       "      <td>0</td>\n",
       "      <td>0</td>\n",
       "      <td>0</td>\n",
       "      <td>0</td>\n",
       "      <td>0</td>\n",
       "      <td>0</td>\n",
       "      <td>...</td>\n",
       "      <td>0</td>\n",
       "      <td>0</td>\n",
       "      <td>2</td>\n",
       "      <td>0</td>\n",
       "      <td>0</td>\n",
       "      <td>0</td>\n",
       "      <td>0</td>\n",
       "      <td>0</td>\n",
       "      <td>1</td>\n",
       "      <td>0</td>\n",
       "    </tr>\n",
       "  </tbody>\n",
       "</table>\n",
       "<p>3 rows × 118 columns</p>\n",
       "</div>"
      ],
      "text/plain": [
       "                 achieving  acquired  actions  adult  agents  ai  arc  \\\n",
       "ai.txt                   1         0        1      0       1   2    0   \n",
       "harrypotter.txt          0         0        0      0       0   0    1   \n",
       "magicorder.txt           0         1        0      1       0   0    0   \n",
       "\n",
       "                 artificial  associate  author  ...  used  voldemort  volume  \\\n",
       "ai.txt                    2          1       0  ...     1          0       0   \n",
       "harrypotter.txt           0          0       1  ...     0          1       0   \n",
       "magicorder.txt            0          0       0  ...     0          0       2   \n",
       "\n",
       "                 weasley  witchcraft  wizard  wizardry  wizards  written  \\\n",
       "ai.txt                 0           0       0         0        0        0   \n",
       "harrypotter.txt        1           1       3         1        1        1   \n",
       "magicorder.txt         0           0       0         0        0        1   \n",
       "\n",
       "                 young  \n",
       "ai.txt               0  \n",
       "harrypotter.txt      1  \n",
       "magicorder.txt       0  \n",
       "\n",
       "[3 rows x 118 columns]"
      ]
     },
     "execution_count": 8,
     "metadata": {},
     "output_type": "execute_result"
    }
   ],
   "source": [
    "# Convert to document-term matrix\n",
    "\n",
    "data_dtm = pd.DataFrame(data_cv.toarray(), columns=cv.get_feature_names())\n",
    "data_dtm.index = data_clean.index\n",
    "data_dtm"
   ]
  },
  {
   "cell_type": "markdown",
   "metadata": {},
   "source": [
    "# FINALLY, PCA!"
   ]
  },
  {
   "cell_type": "code",
   "execution_count": 1,
   "metadata": {},
   "outputs": [
    {
     "ename": "NameError",
     "evalue": "name 'X' is not defined",
     "output_type": "error",
     "traceback": [
      "\u001b[1;31m---------------------------------------------------------------------------\u001b[0m",
      "\u001b[1;31mNameError\u001b[0m                                 Traceback (most recent call last)",
      "\u001b[1;32m<ipython-input-1-64fdb67dc705>\u001b[0m in \u001b[0;36m<module>\u001b[1;34m\u001b[0m\n\u001b[0;32m      3\u001b[0m \u001b[1;33m\u001b[0m\u001b[0m\n\u001b[0;32m      4\u001b[0m \u001b[0mcca\u001b[0m \u001b[1;33m=\u001b[0m \u001b[0mCCA\u001b[0m\u001b[1;33m(\u001b[0m\u001b[0mn_components\u001b[0m\u001b[1;33m=\u001b[0m\u001b[1;36m2\u001b[0m\u001b[1;33m)\u001b[0m\u001b[1;33m\u001b[0m\u001b[1;33m\u001b[0m\u001b[0m\n\u001b[1;32m----> 5\u001b[1;33m \u001b[0mcca\u001b[0m\u001b[1;33m.\u001b[0m\u001b[0mfit\u001b[0m\u001b[1;33m(\u001b[0m\u001b[0mX\u001b[0m\u001b[1;33m,\u001b[0m \u001b[0mY\u001b[0m\u001b[1;33m)\u001b[0m\u001b[1;33m\u001b[0m\u001b[1;33m\u001b[0m\u001b[0m\n\u001b[0m\u001b[0;32m      6\u001b[0m \u001b[1;33m\u001b[0m\u001b[0m\n\u001b[0;32m      7\u001b[0m \u001b[1;31m#to use PCA for dimensionality reduction\u001b[0m\u001b[1;33m\u001b[0m\u001b[1;33m\u001b[0m\u001b[1;33m\u001b[0m\u001b[0m\n",
      "\u001b[1;31mNameError\u001b[0m: name 'X' is not defined"
     ]
    }
   ],
   "source": [
    "from sklearn.decomposition import PCA\n",
    "from sklearn.cross_decomposition import CCA\n",
    "\n",
    "cca = CCA(n_components=2)\n",
    "cca.fit(data_cv.toarray(), cv.get_feature_names())\n",
    "\n",
    "#to use PCA for dimensionality reduction\n",
    "pca = PCA(n_components=2)\n",
    "pca.fit(data_dtm)\n",
    "t_pca = pca.transform(data_dtm)"
   ]
  },
  {
   "cell_type": "code",
   "execution_count": 22,
   "metadata": {},
   "outputs": [
    {
     "name": "stdout",
     "output_type": "stream",
     "text": [
      "(3, 118)\n",
      "(3, 2)\n"
     ]
    }
   ],
   "source": [
    "# this illustrates how PCA reduces dimensions of the data.\n",
    "print(data_dtm.shape) # we used to have a 3 by 118 matrix of data \n",
    "print(t_pca.shape) # we now have a 3 by 2 matrix of components"
   ]
  },
  {
   "cell_type": "code",
   "execution_count": 25,
   "metadata": {
    "scrolled": true
   },
   "outputs": [
    {
     "name": "stdout",
     "output_type": "stream",
     "text": [
      "[[-6.45811751 -3.53764617]\n",
      " [-0.30461056  6.61786229]\n",
      " [ 6.76272807 -3.08021612]]\n"
     ]
    }
   ],
   "source": [
    "# to see how the components are weighted\n",
    "print(t_pca)\n",
    "# my understanding is that each item is one document. \n",
    "# ai.txt is negatively weighted on components 0 and 1\n",
    "# harrypotter.txt is negatively weighted on component 0 but postiively weighted on component 1\n",
    "# this means harrypotter.txt is better described by component 1\n",
    "# magicorder.txt is positively weighted on component 0 but negatively weighted in component 1\n",
    "# does this mean that ai.txt and magicorder.txt differ mainly on component 0?"
   ]
  },
  {
   "cell_type": "code",
   "execution_count": 26,
   "metadata": {},
   "outputs": [
    {
     "name": "stdout",
     "output_type": "stream",
     "text": [
      "[43.76728013 32.89938654]\n"
     ]
    }
   ],
   "source": [
    "# to see how much of the variance is explained by each component\n",
    "print(pca.explained_variance_)\n",
    "# the two components explain 75% of the variance"
   ]
  },
  {
   "cell_type": "markdown",
   "metadata": {},
   "source": [
    "References\n",
    "https://machinelearningmastery.com/prepare-text-data-machine-learning-scikit-learn/\n",
    "https://github.com/adashofdata/nlp-in-python-tutorial/blob/master/1-Data-Cleaning.ipynb\n",
    "https://gdcoder.com/nlp-tutorial-topic-modeling-with-svd/\n",
    "https://www.analyticsvidhya.com/blog/2018/10/stepwise-guide-topic-modeling-latent-semantic-analysis/\n",
    "https://stackoverflow.com/questions/31523575/get-u-sigma-v-matrix-from-truncated-svd-in-scikit-learn\n",
    "https://jakevdp.github.io/PythonDataScienceHandbook/05.09-principal-component-analysis.html"
   ]
  }
 ],
 "metadata": {
  "kernelspec": {
   "display_name": "Python 3",
   "language": "python",
   "name": "python3"
  },
  "language_info": {
   "codemirror_mode": {
    "name": "ipython",
    "version": 3
   },
   "file_extension": ".py",
   "mimetype": "text/x-python",
   "name": "python",
   "nbconvert_exporter": "python",
   "pygments_lexer": "ipython3",
   "version": "3.7.4"
  }
 },
 "nbformat": 4,
 "nbformat_minor": 2
}
